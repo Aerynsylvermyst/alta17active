{
 "cells": [
  {
   "cell_type": "markdown",
   "metadata": {},
   "source": [
    "# 0: DataDataData\n",
    "\n",
    "Here's a sample class wrapping the main abstraction, the `Dataset`.\n",
    "\n",
    "* TODO Support for multiple users? @ben"
   ]
  },
  {
   "cell_type": "code",
   "execution_count": 98,
   "metadata": {},
   "outputs": [
    {
     "name": "stdout",
     "output_type": "stream",
     "text": [
      "{None: 11196, False: 111, True: 7}\n"
     ]
    }
   ],
   "source": [
    "from collections import Counter\n",
    "import csv\n",
    "import random\n",
    "\n",
    "from sklearn.datasets import fetch_20newsgroups\n",
    "\n",
    "\n",
    "class Dataset(object):\n",
    "    \"\"\" Encapsulates unlabelled and labelled examples. \"\"\"\n",
    "    def __init__(self, text_to_label=None):\n",
    "        self.text_to_label = text_to_label or {}\n",
    "        \n",
    "    def add_label(self, text, label):\n",
    "        self.text_to_label[text] = label\n",
    "        \n",
    "    def __iter__(self):\n",
    "        return ((text, label) for text, label in\n",
    "                 self.text_to_label.items())\n",
    "    \n",
    "    def to_csv(self, fname):\n",
    "        with open(fname, 'w') as f:\n",
    "            w = csv.writer(f, delimiter=',')\n",
    "            for text, label in self.text_to_label.items():\n",
    "                w.writerow((label, text))\n",
    "    \n",
    "    @classmethod\n",
    "    def from_csv(cls, fname):\n",
    "        with open(fname) as f:\n",
    "            return cls({text: label for text, label in\n",
    "                        csv.reader(f, delimiter=',')})\n",
    "        \n",
    "    def update(self, other):\n",
    "        self.text_to_label.update(other.text_to_label)\n",
    "    \n",
    "    @property\n",
    "    def label_distribution(self):\n",
    "        return dict(Counter(self.text_to_label.values()))\n",
    "    \n",
    "\n",
    "def build_newsgroups(subset='train'):\n",
    "    \"\"\" Fetches newsgroupd data and returns a Dataset. \"\"\"\n",
    "    newsgroups_train = fetch_20newsgroups(subset=subset)\n",
    "    label_names = {index: name for index, name in \n",
    "                   enumerate(newsgroups_train.target_names)}\n",
    "    # Transform to guns or not.\n",
    "    for i, name in list(label_names.items()):\n",
    "        label_names[i] = name == 'talk.politics.guns'\n",
    "    return Dataset({text: label_names[index] \n",
    "                    for text, index in zip(newsgroups_train.data, \n",
    "                                           newsgroups_train.target)})\n",
    "\n",
    "def unlabel(dataset, p=0.01):\n",
    "    \"\"\" Randomly removes some labels. \"\"\"\n",
    "    for text, label in dataset:\n",
    "        if random.random() > p:\n",
    "            dataset.add_label(text, None)\n",
    "\n",
    "\n",
    "train = build_newsgroups()\n",
    "unlabel(train)\n",
    "print(train.label_distribution)"
   ]
  },
  {
   "cell_type": "markdown",
   "metadata": {},
   "source": [
    "# 1.1 Annotation & reliability\n",
    "\n",
    "* TODO Learning curve @ben\n",
    "* TODO Agreement @ben\n"
   ]
  },
  {
   "cell_type": "markdown",
   "metadata": {},
   "source": [
    "## Samplers\n",
    "\n",
    "For example, a random unlabelled sampler."
   ]
  },
  {
   "cell_type": "code",
   "execution_count": 99,
   "metadata": {},
   "outputs": [],
   "source": [
    "import random\n",
    "\n",
    "\n",
    "class Random(object):\n",
    "    def __init__(self, limit=None):\n",
    "        self.limit = limit\n",
    "        \n",
    "    def __call__(self, dataset):\n",
    "        unlabelled = list(((text, label) \n",
    "                          for (text, label) in dataset \n",
    "                          if label is None))\n",
    "        random.shuffle(unlabelled)\n",
    "        yielded = 0\n",
    "        for text, label in unlabelled:\n",
    "            yield text, label\n",
    "            yielded += 1\n",
    "            if self.limit and yielded == self.limit:\n",
    "                break"
   ]
  },
  {
   "cell_type": "markdown",
   "metadata": {
    "collapsed": true
   },
   "source": [
    "## Annotation tool"
   ]
  },
  {
   "cell_type": "code",
   "execution_count": 103,
   "metadata": {},
   "outputs": [],
   "source": [
    "from IPython.display import clear_output, display\n",
    "import ipywidgets as widgets\n",
    "import functools\n",
    "\n",
    "\n",
    "class AnnotationPane(object):\n",
    "    LABELS = [\n",
    "        ('Yes', True),\n",
    "        ('No', False),\n",
    "    ]\n",
    "    def __init__(self, dataset, sampler):\n",
    "        self.text_pane = widgets.HTML()\n",
    "        self.buttons = []\n",
    "        for desc, label in self.LABELS:\n",
    "            button = widgets.Button(\n",
    "                description=desc\n",
    "            )\n",
    "            button.on_click(functools.partial(self.on_click, label))\n",
    "            self.buttons.append(button)\n",
    "        \n",
    "        self.view = widgets.VBox([\n",
    "            widgets.HBox(self.buttons),\n",
    "            self.text_pane,  \n",
    "        ])\n",
    "        self.queue = [text for text, label in sampler(dataset)]\n",
    "        self.dataset = dataset\n",
    "        self.draw()\n",
    "        display(self.view)   \n",
    "\n",
    "    def on_click(self, label, button):\n",
    "        self.dataset.add_label(self.text, label)\n",
    "        self.draw()\n",
    "        \n",
    "    def draw(self):\n",
    "        if not self.queue:\n",
    "            for button in self.buttons:\n",
    "                button.disabled = True\n",
    "            self.text_pane.value = '<p>Finished</p>'\n",
    "        else:\n",
    "            self.text = self.queue.pop(0)\n",
    "            self.text_pane.value = '<p>{}</p>'.format(self.text)"
   ]
  },
  {
   "cell_type": "markdown",
   "metadata": {},
   "source": [
    "## Manually label some examples"
   ]
  },
  {
   "cell_type": "code",
   "execution_count": 104,
   "metadata": {},
   "outputs": [
    {
     "data": {
      "application/vnd.jupyter.widget-view+json": {
       "model_id": "99cb2f3e7162452084862e39a7dd157b",
       "version_major": 2,
       "version_minor": 0
      },
      "text/html": [
       "<p>Failed to display Jupyter Widget of type <code>VBox</code>.</p>\n",
       "<p>\n",
       "  If you're reading this message in the Jupyter Notebook or JupyterLab Notebook, it may mean\n",
       "  that the widgets JavaScript is still loading. If this message persists, it\n",
       "  likely means that the widgets JavaScript library is either not installed or\n",
       "  not enabled. See the <a href=\"https://ipywidgets.readthedocs.io/en/stable/user_install.html\">Jupyter\n",
       "  Widgets Documentation</a> for setup instructions.\n",
       "</p>\n",
       "<p>\n",
       "  If you're reading this message in another frontend (for example, a static\n",
       "  rendering on GitHub or <a href=\"https://nbviewer.jupyter.org/\">NBViewer</a>),\n",
       "  it may mean that your frontend doesn't currently support widgets.\n",
       "</p>\n"
      ],
      "text/plain": [
       "VBox(children=(HBox(children=(Button(description='Yes', style=ButtonStyle()), Button(description='No', style=ButtonStyle()))), HTML(value='<p>From: c5ff@jupiter.sun.csd.unb.ca (COOK  Charlie)\\nSubject: NHL Summary parse results for games played Sun, April 18, 1993\\nOrganization: University of New Brunswick\\nLines: 219\\n\\nNew Jersey                       1 0 2--3\\nPittsburgh                       2 3 1--6\\nFirst period\\n     1, Pittsburgh, Tocchet 1 (Stevens, Lemieux) pp, 1:40.\\n     2, New Jersey, Barr 1 (Guerin, Holik) 6:24.\\n     3, Pittsburgh, Lemieux 1 (Jagr, Ramsey) 9:33.\\nSecond period\\n     4, Pittsburgh, Lemieux 2 (Stevens, Murphy) pp, 4:11.\\n     5, Pittsburgh, Francis 1 (Ramsey, Mullen) 12:57.\\n     6, Pittsburgh, Tippett 1 (Jagr, McEachern) 17:13.\\nThird period\\n     7, Pittsburgh, Jagr 1 (Samuelsson, Lemieux) pp, 8:35.\\n     8, New Jersey, Stevens 1 (Niedermayer, Driver) pp, 11:48.\\n     9, New Jersey, Stevens 2 (Semak, Niedermayer) 18:56.\\n\\nPittsburgh: 6    Power play: 8-3\\nScorer            G    A   Pts\\n---------------  ---  ---  ---\\nFrancis            1    0    1\\nJagr               1    2    3\\nLemieux            2    2    4\\nMcEachern          0    1    1\\nMullen             0    1    1\\nMurphy             0    1    1\\nRamsey             0    2    2\\nSamuelsson         0    1    1\\nStevens            0    2    2\\nTippett            1    0    1\\nTocchet            1    0    1\\n\\nNew Jersey: 3    Power play: 8-1\\nScorer            G    A   Pts\\n---------------  ---  ---  ---\\nBarr               1    0    1\\nDriver             0    1    1\\nGuerin             0    1    1\\nHolik              0    1    1\\nNiedermayer        0    2    2\\nSemak              0    1    1\\nStevens            2    0    2\\n\\n-----------------------------------------\\nSt Louis                         0 2 2--4\\nChicago                          1 2 0--3\\nFirst period\\n     1, Chicago, Noonan 1 (Larmer, Brown) 8:17.\\nSecond period\\n     2, St Louis, Brown 1 (Shanahan, Emerson) 3:12.\\n     3, Chicago, Noonan 2 (Roenick, Chelios) pp, 5:40.\\n     4, Chicago, Noonan 3 (Matteau, Sutter) 8:51.\\n     5, St Louis, Felsner 1 (McRae, Janney) 12:49.\\nThird period\\n     6, St Louis, Shanahan 1 (Brown, Hull) pp, 11:12.\\n     7, St Louis, Hull 1 (Emerson, Brown) pp, 11:29.\\n\\nSt Louis: 4    Power play: 4-2\\nScorer            G    A   Pts\\n---------------  ---  ---  ---\\nBrown              1    2    3\\nEmerson            0    2    2\\nFelsner            1    0    1\\nHull               1    1    2\\nJanney             0    1    1\\nMcRae              0    1    1\\nShanahan           1    1    2\\n\\nChicago: 3    Power play: 7-1\\nScorer            G    A   Pts\\n---------------  ---  ---  ---\\nBrown              0    1    1\\nChelios            0    1    1\\nLarmer             0    1    1\\nMatteau            0    1    1\\nNoonan             3    0    3\\nRoenick            0    1    1\\nSutter             0    1    1\\n\\n-----------------------------------------\\nLos Angeles                      1 3 2--6\\nCalgary                          0 1 2--3\\nFirst period\\n     1, Los Angeles, Sydor 1 (Gretzky, Sandstrom) 0:16.\\nSecond period\\n     2, Calgary, Suter 1 (Fleury) sh, 2:48.\\n     3, Los Angeles, Carson 1 (Shuchuk, Sydor) pp, 3:13.\\n     4, Los Angeles, Huddy 1 (Taylor, Rychel) 3:37.\\n     5, Los Angeles, McSorley 1 (unassisted) 6:36.\\nThird period\\n     6, Los Angeles, Millen 1 (Granato, Donnelly) 1:06.\\n     7, Calgary, Dahlquist 1 (Otto) 4:23.\\n     8, Calgary, Yawney 1 (MacInnis, Reichel) 8:47.\\n     9, Los Angeles, Carson 2 (Sandstrom, Robitaille) pp, 10:32.\\n\\nLos Angeles: 6    Power play: 10-2\\nScorer            G    A   Pts\\n---------------  ---  ---  ---\\nCarson             2    0    2\\nDonnelly           0    1    1\\nGranato            0    1    1\\nGretzky            0    1    1\\nHuddy              1    0    1\\nMcSorley           1    0    1\\nMillen             1    0    1\\nRobitaille         0    1    1\\nRychel             0    1    1\\nSandstrom          0    2    2\\nShuchuk            0    1    1\\nSydor              1    1    2\\nTaylor             0    1    1\\n\\nCalgary: 3    Power play: 8-0   Special goals:  sh: 1  Total: 1\\nScorer            G    A   Pts\\n---------------  ---  ---  ---\\nDahlquist          1    0    1\\nFleury             0    1    1\\nMacInnis           0    1    1\\nOtto               0    1    1\\nReichel            0    1    1\\nSuter              1    0    1\\nYawney             1    0    1\\n\\n-----------------------------------------\\nFirst period\\n     1, NY Islanders, Ferraro 1 (Flatley, Vaske) 5:56.\\nSecond period\\n     No scoring.\\nThird period\\n     2, Washington, Hunter 1 (Elynuik, Krygier) 3:18.\\n     3, Washington, Hunter 2 (Khristich, Johansson) pp, 7:01.\\n     4, Washington, Khristich 1 (Pivonka, Johansson) pp, 15:25.\\n\\nWashington: 3    Power play: 5-2\\nScorer            G    A   Pts\\n---------------  ---  ---  ---\\nElynuik            0    1    1\\nHunter             2    0    2\\nJohansson          0    2    2\\nKhristich          1    1    2\\nKrygier            0    1    1\\nPivonka            0    1    1\\n\\nNY Islanders: 1    Power play: 5-0\\nScorer            G    A   Pts\\n---------------  ---  ---  ---\\nFerraro            1    0    1\\nFlatley            0    1    1\\nVaske              0    1    1\\n\\n-----------------------------------------\\nBuffalo                          2 1 1 1--5\\nBoston                           0 2 2 0--4\\nFirst period\\n     1, Buffalo, Hannan 1 (unassisted) 2:32.\\n     2, Buffalo, LaFontaine 1 (Mogilny) 9:26.\\nSecond period\\n     3, Boston, Juneau 1 (Neely, Oates) pp, 7:20.\\n     4, Boston, Neely 1 (Oates, Juneau) 14:42.\\n     5, Buffalo, Mogilny 1 (Hawerchuk, Smehlik) 19:55.\\nThird period\\n     6, Buffalo, Mogilny 2 (unassisted) 3:46.\\n     7, Boston, Neely 2 (Juneau, Oates) 15:44.\\n     8, Boston, Heinze 1 (Juneau) 17:00.\\nOvertime\\n     9, Buffalo, Sweeney 1 (Khmylev, Smehlik) 11:03.\\n\\nBuffalo: 5    Power play: 3-0\\nScorer            G    A   Pts\\n---------------  ---  ---  ---\\nHannan             1    0    1\\nHawerchuk          0    1    1\\nKhmylev            0    1    1\\nLaFontaine         1    0    1\\nMogilny            2    1    3\\nSmehlik            0    2    2\\nSweeney            1    0    1\\n\\nBoston: 4    Power play: 7-1\\nScorer            G    A   Pts\\n---------------  ---  ---  ---\\nHeinze             1    0    1\\nJuneau             1    3    4\\nNeely              2    1    3\\nOates              0    3    3\\n\\n-----------------------------------------\\nMontreal                         1 1 0 0--2\\nQuebec                           0 0 2 1--3\\nFirst period\\n     1, Montreal, Dionne 1 (Dipietro, Brunet) 5:52.\\nSecond period\\n     2, Montreal, Bellows 1 (Muller, Desjardins) 9:58.\\nThird period\\n     3, Quebec, Rucinsky 1 (Lapointe, Sundin) pp, 18:31.\\n     4, Quebec, Sakic 1 (Lapointe) 19:12.\\nOvertime\\n     5, Quebec, Young 1 (Ricci, Duchesne) 16:49.\\n\\nQuebec: 3    Power play: 4-1\\nScorer            G    A   Pts\\n---------------  ---  ---  ---\\nDuchesne           0    1    1\\nLapointe           0    2    2\\nRicci              0    1    1\\nRucinsky           1    0    1\\nSakic              1    0    1\\nSundin             0    1    1\\nYoung              1    0    1\\n\\nMontreal: 2    Power play: 1-0\\nScorer            G    A   Pts\\n---------------  ---  ---  ---\\nBellows            1    0    1\\nBrunet             0    1    1\\nDesjardins         0    1    1\\nDionne             1    0    1\\nDipietro           0    1    1\\nMuller             0    1    1\\n\\n-----------------------------------------\\n</p>')))"
      ]
     },
     "metadata": {},
     "output_type": "display_data"
    }
   ],
   "source": [
    "pane = AnnotationPane(train, Random(10))"
   ]
  },
  {
   "cell_type": "markdown",
   "metadata": {},
   "source": [
    "## See our new labels in the dataset"
   ]
  },
  {
   "cell_type": "code",
   "execution_count": 105,
   "metadata": {},
   "outputs": [
    {
     "name": "stdout",
     "output_type": "stream",
     "text": [
      "{None: 11176, False: 121, True: 17}\n"
     ]
    }
   ],
   "source": [
    "print(train.label_distribution)"
   ]
  },
  {
   "cell_type": "markdown",
   "metadata": {},
   "source": [
    "# 1.1: Active learning\n",
    "\n",
    "Here is a straw man active sampler that:\n",
    "* trains a classifier on the labelled data\n",
    "* predicts the labels of unlabelled data\n",
    "* selects text with a specific label profile"
   ]
  },
  {
   "cell_type": "code",
   "execution_count": 113,
   "metadata": {},
   "outputs": [],
   "source": [
    "from collections import Counter\n",
    "\n",
    "import numpy as np\n",
    "from sklearn.linear_model import SGDClassifier\n",
    "from sklearn.feature_extraction.text import CountVectorizer\n",
    "from sklearn.model_selection import GridSearchCV, cross_val_score\n",
    "from sklearn.pipeline import Pipeline\n",
    "\n",
    "\n",
    "def train_classifier(dataset, cv=3):\n",
    "    X, y = [], []\n",
    "    for text, label in dataset:\n",
    "        assert isinstance(text, str)\n",
    "        assert label in {True, False}\n",
    "        X.append(text)\n",
    "        y.append(label)\n",
    "    print('Got {} labelled samples'.format(len(X)))\n",
    "    pipeline = Pipeline([\n",
    "        ('vectorizer', CountVectorizer()),\n",
    "        ('clf', SGDClassifier(loss='log')),\n",
    "    ])\n",
    "    if cv:\n",
    "        print('Cross-validating')\n",
    "        scores = cross_val_score(pipeline, X, y, cv=cv)\n",
    "        print(\"Cross-validated accuracy: %0.2f (+/- %0.2f)\" %\n",
    "              (scores.mean(), scores.std() * 2))\n",
    "    print('Refitting')\n",
    "    pipeline.fit(X, y)\n",
    "    return pipeline\n",
    "\n",
    "\n",
    "class Active(object):\n",
    "    def __init__(self, pipeline, \n",
    "                 query=lambda i: i[1] is None, \n",
    "                 accept=lambda i: True, limit=None):\n",
    "        self.pipeline = pipeline\n",
    "        self.limit = limit\n",
    "        self.query = query\n",
    "        self.accept = accept\n",
    "    \n",
    "    def __call__(self, dataset):\n",
    "        X, y = [], []\n",
    "        for text, label in dataset:\n",
    "            if self.query((text, label)):\n",
    "                X.append(text)\n",
    "                y.append(label)\n",
    "        print('Predicting {} unlabelled'.format(len(X)))\n",
    "        yielded = 0\n",
    "        for probs, text in zip(self.pipeline.predict_proba(X), X):\n",
    "            predictions = dict(zip(self.pipeline.classes_, probs))\n",
    "            if self.accept(predictions):\n",
    "                yield text, predictions\n",
    "                yielded += 1\n",
    "                if self.limit and yielded == self.limit:\n",
    "                    break"
   ]
  },
  {
   "cell_type": "code",
   "execution_count": 114,
   "metadata": {
    "scrolled": false
   },
   "outputs": [
    {
     "name": "stdout",
     "output_type": "stream",
     "text": [
      "Got 138 labelled samples\n",
      "Cross-validating\n"
     ]
    },
    {
     "name": "stderr",
     "output_type": "stream",
     "text": [
      "/Users/wradford/repos/personal/alta17active/.venv/lib/python3.6/site-packages/sklearn/linear_model/stochastic_gradient.py:128: FutureWarning: max_iter and tol parameters have been added in <class 'sklearn.linear_model.stochastic_gradient.SGDClassifier'> in 0.19. If both are left unset, they default to max_iter=5 and tol=None. If tol is not None, max_iter defaults to max_iter=1000. From 0.21, default max_iter will be 1000, and default tol will be 1e-3.\n",
      "  \"and default tol will be 1e-3.\" % type(self), FutureWarning)\n",
      "/Users/wradford/repos/personal/alta17active/.venv/lib/python3.6/site-packages/sklearn/linear_model/stochastic_gradient.py:128: FutureWarning: max_iter and tol parameters have been added in <class 'sklearn.linear_model.stochastic_gradient.SGDClassifier'> in 0.19. If both are left unset, they default to max_iter=5 and tol=None. If tol is not None, max_iter defaults to max_iter=1000. From 0.21, default max_iter will be 1000, and default tol will be 1e-3.\n",
      "  \"and default tol will be 1e-3.\" % type(self), FutureWarning)\n",
      "/Users/wradford/repos/personal/alta17active/.venv/lib/python3.6/site-packages/sklearn/linear_model/stochastic_gradient.py:128: FutureWarning: max_iter and tol parameters have been added in <class 'sklearn.linear_model.stochastic_gradient.SGDClassifier'> in 0.19. If both are left unset, they default to max_iter=5 and tol=None. If tol is not None, max_iter defaults to max_iter=1000. From 0.21, default max_iter will be 1000, and default tol will be 1e-3.\n",
      "  \"and default tol will be 1e-3.\" % type(self), FutureWarning)\n"
     ]
    },
    {
     "name": "stdout",
     "output_type": "stream",
     "text": [
      "Cross-validated accuracy: 0.84 (+/- 0.06)\n",
      "Refitting\n"
     ]
    },
    {
     "name": "stderr",
     "output_type": "stream",
     "text": [
      "/Users/wradford/repos/personal/alta17active/.venv/lib/python3.6/site-packages/sklearn/linear_model/stochastic_gradient.py:128: FutureWarning: max_iter and tol parameters have been added in <class 'sklearn.linear_model.stochastic_gradient.SGDClassifier'> in 0.19. If both are left unset, they default to max_iter=5 and tol=None. If tol is not None, max_iter defaults to max_iter=1000. From 0.21, default max_iter will be 1000, and default tol will be 1e-3.\n",
      "  \"and default tol will be 1e-3.\" % type(self), FutureWarning)\n"
     ]
    },
    {
     "name": "stdout",
     "output_type": "stream",
     "text": [
      "Predicting 11176 unlabelled\n"
     ]
    },
    {
     "name": "stderr",
     "output_type": "stream",
     "text": [
      "/Users/wradford/repos/personal/alta17active/.venv/lib/python3.6/site-packages/sklearn/linear_model/base.py:340: RuntimeWarning: overflow encountered in exp\n",
      "  np.exp(prob, prob)\n"
     ]
    },
    {
     "data": {
      "application/vnd.jupyter.widget-view+json": {
       "model_id": "32b0151a6ef346e0ad662f5c41fbf80c",
       "version_major": 2,
       "version_minor": 0
      },
      "text/html": [
       "<p>Failed to display Jupyter Widget of type <code>VBox</code>.</p>\n",
       "<p>\n",
       "  If you're reading this message in the Jupyter Notebook or JupyterLab Notebook, it may mean\n",
       "  that the widgets JavaScript is still loading. If this message persists, it\n",
       "  likely means that the widgets JavaScript library is either not installed or\n",
       "  not enabled. See the <a href=\"https://ipywidgets.readthedocs.io/en/stable/user_install.html\">Jupyter\n",
       "  Widgets Documentation</a> for setup instructions.\n",
       "</p>\n",
       "<p>\n",
       "  If you're reading this message in another frontend (for example, a static\n",
       "  rendering on GitHub or <a href=\"https://nbviewer.jupyter.org/\">NBViewer</a>),\n",
       "  it may mean that your frontend doesn't currently support widgets.\n",
       "</p>\n"
      ],
      "text/plain": [
       "VBox(children=(HBox(children=(Button(description='Yes', style=ButtonStyle()), Button(description='No', style=ButtonStyle()))), HTML(value='<p>From: km@cs.pitt.edu (Ken Mitchum)\\nSubject: Re: Patient-Physician Diplomacy\\nArticle-I.D.: pitt.19422\\nReply-To: km@cs.pitt.edu (Ken Mitchum)\\nOrganization: Univ. of Pittsburgh Computer Science\\nLines: 22\\n\\nIn article <C4Hyou.1Iz@mentor.cc.purdue.edu> hrubin@pop.stat.purdue.edu (Herman Rubin) writes:\\n>In article <188@ky3b.UUCP> km@ky3b.pgh.pa.us (Ken Mitchum) writes:\\n>\\n>>Ditto. Disease is a great leveling experience, however. Some people\\n>>are very much afronted to find out that all the money in the world\\n>>does not buy one health. Everyone looks the same when they die.\\n>\\n>If money does not buy one health, why are we talking about paying\\n>for medical expenses for those not currently \"adequately covered\"?\\n\\nHerman, I would think you of all people would/could distinguish\\nbetween \"health\" and \"treatment of disease.\" All the prevention\\nmedicine people preach this all the time. You cannot buy health.\\nYou can buy treatment of disease, assuming you are lucky enough\\nto have a disease which can be treated. A rich person with a\\nterminal disease is a bit out of luck. There is no such thing\\nas \"adequately covered\" and there never will be. \\n\\nAnd for what it\\'s worth, I\\'ll be the first to admit that all my\\npatients die.\\n\\n-km\\n</p>')))"
      ]
     },
     "metadata": {},
     "output_type": "display_data"
    }
   ],
   "source": [
    "labelled = ((text, label) for text, label in train if label in {True, False})\n",
    "pipeline = train_classifier(labelled, cv=3)\n",
    "pane = AnnotationPane(train, Active(pipeline, \n",
    "                                    accept=lambda pred: pred[True] > 0.8,\n",
    "                                    limit=10))"
   ]
  },
  {
   "cell_type": "code",
   "execution_count": 115,
   "metadata": {},
   "outputs": [
    {
     "name": "stdout",
     "output_type": "stream",
     "text": [
      "{None: 11146, False: 137, True: 31}\n"
     ]
    }
   ],
   "source": [
    "print(train.label_distribution)"
   ]
  },
  {
   "cell_type": "markdown",
   "metadata": {},
   "source": [
    "# 2: Live shared task\n",
    "\n",
    "We can weakly supervise using precise functions. Note that we have no fancy model above the labelling functions.\n",
    "\n",
    "* TODO Incorporate `snorkel` @ben\n",
    "* TODO Setup task @will\n",
    "  * Create `/submisssions/$USER`\n",
    "  * Copy notebook template\n",
    "  * Load shared task data pool.\n",
    "* TODO Push task @will\n",
    "  * Save data to `.csv`\n",
    "  * `git commit/push`"
   ]
  },
  {
   "cell_type": "code",
   "execution_count": null,
   "metadata": {},
   "outputs": [],
   "source": []
  }
 ],
 "metadata": {
  "kernelspec": {
   "display_name": "Python 3",
   "language": "python",
   "name": "python3"
  },
  "language_info": {
   "codemirror_mode": {
    "name": "ipython",
    "version": 3
   },
   "file_extension": ".py",
   "mimetype": "text/x-python",
   "name": "python",
   "nbconvert_exporter": "python",
   "pygments_lexer": "ipython3",
   "version": "3.6.3"
  }
 },
 "nbformat": 4,
 "nbformat_minor": 2
}
