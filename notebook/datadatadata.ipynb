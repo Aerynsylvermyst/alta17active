{
 "cells": [
  {
   "cell_type": "markdown",
   "metadata": {},
   "source": [
    "# DataDataData\n",
    "\n",
    "Here's a sample class wrapping the main abstraction, the `Dataset`."
   ]
  },
  {
   "cell_type": "code",
   "execution_count": 1,
   "metadata": {},
   "outputs": [],
   "source": [
    "import csv\n",
    "import random\n",
    "\n",
    "\n",
    "class Dataset(object):\n",
    "    \"\"\" Encapsulates unlabelled and labelled examples. \"\"\"\n",
    "    def __init__(self, text_to_label=None):\n",
    "        self.text_to_label = text_to_label or {}\n",
    "        \n",
    "    def add_label(self, text, label):\n",
    "        self.text_to_label[text] = label\n",
    "        \n",
    "    def iter_texts(self, accept=lambda label: True):\n",
    "        return ((text, label) for text, label in \n",
    "                 self.text_to_label.items() if accept(label))\n",
    "    \n",
    "    def to_csv(self, fname):\n",
    "        with open(fname, 'w') as f:\n",
    "            w = csv.writer(f, delimiter=',')\n",
    "            for text, label in self.text_to_label.items():\n",
    "                w.writerow((label, text))\n",
    "    \n",
    "    @classmethod\n",
    "    def from_csv(cls, fname):\n",
    "        with open(fname) as f:\n",
    "            return cls({text: label for text, label in\n",
    "                        csv.reader(f, delimiter=',')})\n",
    "        \n",
    "    def update(self, other):\n",
    "        self.text_to_label.update(other.text_to_label)"
   ]
  },
  {
   "cell_type": "markdown",
   "metadata": {},
   "source": [
    "# 20 newgroups\n",
    "\n",
    "* Take the training set.\n",
    "* Remove every second label."
   ]
  },
  {
   "cell_type": "code",
   "execution_count": 2,
   "metadata": {},
   "outputs": [],
   "source": [
    "from sklearn.datasets import fetch_20newsgroups\n",
    "\n",
    "def build_newsgroups(subset='train'):\n",
    "    \"\"\" Fetches newsgroupd data and returns a Dataset. \"\"\"\n",
    "    newsgroups_train = fetch_20newsgroups(subset=subset)\n",
    "    label_names = {index: name for index, name in \n",
    "                   enumerate(newsgroups_train.target_names)}\n",
    "    return Dataset({text: label_names[index] \n",
    "                    for text, index in zip(newsgroups_train.data, \n",
    "                                           newsgroups_train.target)})\n",
    "\n",
    "def unlabel(dataset, p=0.5):\n",
    "    \"\"\" Randomly removes some labels. \"\"\"\n",
    "    for text, label in dataset.iter_texts():\n",
    "        if random.random() > p:\n",
    "            dataset.add_label(text, None)\n",
    "\n",
    "\n",
    "train = build_newsgroups()\n",
    "unlabel(train)"
   ]
  },
  {
   "cell_type": "markdown",
   "metadata": {},
   "source": [
    "# Active sampling with classifier\n",
    "\n",
    "Here is a straw man active sampler that:\n",
    "* trains a classifier on the labelled data\n",
    "* predicts the labels of unlabelled data\n",
    "* selects text with a specific label profile"
   ]
  },
  {
   "cell_type": "code",
   "execution_count": 3,
   "metadata": {},
   "outputs": [],
   "source": [
    "from collections import Counter\n",
    "\n",
    "import numpy as np\n",
    "from sklearn.linear_model import SGDClassifier\n",
    "from sklearn.feature_extraction.text import CountVectorizer\n",
    "from sklearn.model_selection import GridSearchCV, cross_val_score\n",
    "from sklearn.pipeline import Pipeline\n",
    "\n",
    "\n",
    "def iter_active_sample(dataset, accept=lambda i: True, limit=None, cross_validate=True):\n",
    "    \"\"\" Trains a model from the labelled data.\n",
    "    Yields unlabelled (but predicted examples that evaluate True in accept()).\n",
    "    \"\"\"\n",
    "    X, y = [], []\n",
    "    for text, label in list(dataset.iter_texts(lambda l: l is not None)):\n",
    "        X.append(text)\n",
    "        y.append(label)\n",
    "    print('Got {} labelled samples'.format(len(X)))\n",
    "    pipeline = Pipeline([\n",
    "        ('vectorizer', CountVectorizer()),\n",
    "        ('clf', SGDClassifier(loss='log')),\n",
    "    ])\n",
    "    if cross_validate:\n",
    "        print('Cross-validating')\n",
    "        scores = cross_val_score(pipeline, X, y, cv=3)\n",
    "        print(\"Cross-validated accuracy: %0.2f (+/- %0.2f)\" % (scores.mean(), scores.std() * 2))\n",
    "    print('Refitting')\n",
    "    pipeline.fit(X, y)\n",
    "    X, y = [], []\n",
    "    for text, label in list(dataset.iter_texts(lambda l: l is None)):\n",
    "        X.append(text)\n",
    "        y.append(label)\n",
    "    print('Predicting {} unlabelled'.format(len(X)))\n",
    "    yielded = 0\n",
    "    for probs, text in zip(pipeline.predict_proba(X), X):\n",
    "        predictions = dict(zip(pipeline.classes_, probs))\n",
    "        if accept(predictions):\n",
    "            yield text, predictions\n",
    "            yielded += 1\n",
    "            if limit and yielded == limit:\n",
    "                break\n",
    "    \n",
    "\n",
    "def iter_random_unlabelled(dataset, limit=None):\n",
    "    unlabelled = list(dataset.iter_texts(accept=lambda label: label is None))\n",
    "    random.shuffle(unlabelled)\n",
    "    yielded = 0\n",
    "    for text, label in unlabelled:\n",
    "        yield text, label\n",
    "        yielded += 1\n",
    "        if limit and yielded == limit:\n",
    "            break"
   ]
  },
  {
   "cell_type": "code",
   "execution_count": 4,
   "metadata": {},
   "outputs": [
    {
     "name": "stdout",
     "output_type": "stream",
     "text": [
      "Got 5656 labelled samples\n",
      "Cross-validating\n"
     ]
    },
    {
     "name": "stderr",
     "output_type": "stream",
     "text": [
      "/Users/wradford/repos/personal/alta17active/.venv/lib/python3.6/site-packages/sklearn/linear_model/stochastic_gradient.py:128: FutureWarning: max_iter and tol parameters have been added in <class 'sklearn.linear_model.stochastic_gradient.SGDClassifier'> in 0.19. If both are left unset, they default to max_iter=5 and tol=None. If tol is not None, max_iter defaults to max_iter=1000. From 0.21, default max_iter will be 1000, and default tol will be 1e-3.\n",
      "  \"and default tol will be 1e-3.\" % type(self), FutureWarning)\n",
      "/Users/wradford/repos/personal/alta17active/.venv/lib/python3.6/site-packages/sklearn/linear_model/stochastic_gradient.py:128: FutureWarning: max_iter and tol parameters have been added in <class 'sklearn.linear_model.stochastic_gradient.SGDClassifier'> in 0.19. If both are left unset, they default to max_iter=5 and tol=None. If tol is not None, max_iter defaults to max_iter=1000. From 0.21, default max_iter will be 1000, and default tol will be 1e-3.\n",
      "  \"and default tol will be 1e-3.\" % type(self), FutureWarning)\n",
      "/Users/wradford/repos/personal/alta17active/.venv/lib/python3.6/site-packages/sklearn/linear_model/stochastic_gradient.py:128: FutureWarning: max_iter and tol parameters have been added in <class 'sklearn.linear_model.stochastic_gradient.SGDClassifier'> in 0.19. If both are left unset, they default to max_iter=5 and tol=None. If tol is not None, max_iter defaults to max_iter=1000. From 0.21, default max_iter will be 1000, and default tol will be 1e-3.\n",
      "  \"and default tol will be 1e-3.\" % type(self), FutureWarning)\n"
     ]
    },
    {
     "name": "stdout",
     "output_type": "stream",
     "text": [
      "Cross-validated accuracy: 0.73 (+/- 0.02)\n",
      "Refitting\n"
     ]
    },
    {
     "name": "stderr",
     "output_type": "stream",
     "text": [
      "/Users/wradford/repos/personal/alta17active/.venv/lib/python3.6/site-packages/sklearn/linear_model/stochastic_gradient.py:128: FutureWarning: max_iter and tol parameters have been added in <class 'sklearn.linear_model.stochastic_gradient.SGDClassifier'> in 0.19. If both are left unset, they default to max_iter=5 and tol=None. If tol is not None, max_iter defaults to max_iter=1000. From 0.21, default max_iter will be 1000, and default tol will be 1e-3.\n",
      "  \"and default tol will be 1e-3.\" % type(self), FutureWarning)\n"
     ]
    },
    {
     "name": "stdout",
     "output_type": "stream",
     "text": [
      "Predicting 5658 unlabelled\n",
      "Labels\t[('comp.os.ms-windows.misc', 0.49999519650775315), ('soc.religion.christian', 0.49998825435273836), ('comp.windows.x', 1.6549139380699382e-05)]\n",
      "Text\t'From: yuting@Xenon.Stanford.EDU (Eugene Y. Kuo)\\nSubject: Any updated Canon BJ-200 driver?\\nOrganization: Computer Science Department, Stanford University.\\nLines: 8\\n\\nHi ... can anyone tell me where I can get a copy of updated Canon BJ-200\\nprinter driver for Windows 3.1, if any ? I have ver 1.0 which comes with\\nmy BJ-200 printer, I just wonder if there is any newer version.\\n\\nThanks very much, please email.\\n\\n\\n\\n'\n",
      "\n",
      "Labels\t[('rec.autos', 0.5), ('talk.politics.guns', 0.5), ('rec.sport.baseball', 1.4280381443855174e-27)]\n",
      "Text\t'From: callison@uokmax.ecn.uoknor.edu (James P. Callison)\\nSubject: Re: WARNING.....(please read)...\\nNntp-Posting-Host: uokmax.ecn.uoknor.edu\\nOrganization: Engineering Computer Network, University of Oklahoma, Norman, OK, USA\\nLines: 32\\n\\nIn article <1993Apr17.051701.3419@nuscc.nus.sg> matmcinn@nuscc.nus.sg (Matthew MacIntyre at the National University of Senegal) writes:\\n>callison@uokmax.ecn.uoknor.edu (James P. Callison) writes:\\n>: >> \\n>: >I\\'m not going to argue the issue of carrying weapons, but I would ask you if \\n>: >you would have thought seriously about shooting a kid for setting off your\\n>: >alarm?  I can think of worse things in the world.  Glad you got out of there\\n>: >before they did anything to give you a reason to fire your gun.\\n>: \\n>I think people have a right to kill to defend their property. Why not? Be\\n>honest: do you really care more about scum than about your  car?\\n\\nYo! Watch the attributions--I didn\\'t say that!\\n\\nAgain, this isn\\'t an appropriate forum for discussions on whether you\\nshould shoot someone for property damage/vandalism/theft, but every\\nresponsible gun owner realizes that there are limits, and the punishment\\nmust fit the crime. I mean, think about it--is a (really) harmless\\nprank worth killing over?\\n\\nAs I said, the situation described (punks setting off alarms and\\ntaunting people to come out) could turn very ugly very quickly, and\\nit is worth being prepared when your life is potentially on the line.\\n\\n\\t\\t\\t\\tJames\\n\\nJames P. Callison    Microcomputer Coordinator, U of Oklahoma Law Center \\nCallison@uokmax.ecn.uoknor.edu   /\\\\    Callison@aardvark.ucs.uoknor.edu   \\nDISCLAIMER: I\\'m not an engineer, but I play one at work...\\n\\t\\tThe forecast calls for Thunder...\\'89 T-Bird SC\\n   \"It\\'s a hell of a thing, killing a man. You take away all he has \\n\\tand all he\\'s ever gonna have.\" \\n\\t\\t\\t--Will Munny, \"Unforgiven\"\\n'\n",
      "\n",
      "Labels\t[('comp.windows.x', 0.59616316267707037), ('comp.sys.mac.hardware', 0.40383649439565755), ('rec.motorcycles', 2.260889691136638e-07)]\n",
      "Text\t\"From: pallis@server.uwindsor.ca (PALLIS  DIMITRIOS        )\\nSubject: Re: Genoa Blitz 24 hits 1600x1200x256 NI !\\nLines: 3\\n\\ni am sorry, but this genoa card does nothing that the ATI ultra plus 2mb\\ncan't do, PLUS the ATI costs 330$US street price ....\\n\\n\"\n",
      "\n",
      "Labels\t[('misc.forsale', 0.50000000000000167), ('comp.windows.x', 0.49999999999999839), ('rec.autos', 4.0198918310290481e-17)]\n",
      "Text\t\"From: lorne@sun.com (Lorne R. Johnson - Sun IC Region SE)\\nSubject: WARRIORS TICKETS FOR SALE\\nOrganization: Sun Microsystems, Inc.\\nLines: 22\\nDistribution: ca\\nReply-To: lorne@sun.com\\nNNTP-Posting-Host: normajean.west.sun.com\\n\\n\\n   *****************************\\n   * WARRIORS TICKETS FOR SALE *\\n   *****************************\\n\\nI have 2 tickets that I can't use (Last pair this year).\\n\\nSection 109, Row P, Seats 8 & 9\\n\\nDAY\\tDATE\\tOPPONENT\\tTIME\\t\\n---\\t----\\t--------\\t----\\t\\nWED     4/21    Sacremento     7:30\\n\\nPrice: $45.00 = MY COST\\n\\nCall or email if you are interested in these tickets.\\n\\n\\nLorne Johnson\\nlorne@sun.com\\n(408) 562-6003\\n\\n\"\n",
      "\n",
      "Labels\t[('rec.sport.baseball', 0.52865805922527231), ('rec.autos', 0.47134194077410513), ('comp.sys.ibm.pc.hardware', 6.2265403938071355e-13)]\n",
      "Text\t'From: nittmo@camelot.bradley.edu (Christopher Taylor)\\nSubject: When Is Melido Due Back?\\nNntp-Posting-Host: camelot.bradley.edu\\nOrganization: Bradley University\\nDistribution: na\\nLines: 6\\n\\nWhen are the Yankees planning on activating Melido Perez?  His 15 days on\\nthe DL are up today, but are they bringing him back this weekend? \\n\\nThanks for any info.\\n \\n\\n'\n",
      "\n"
     ]
    },
    {
     "name": "stderr",
     "output_type": "stream",
     "text": [
      "/Users/wradford/repos/personal/alta17active/.venv/lib/python3.6/site-packages/sklearn/linear_model/base.py:340: RuntimeWarning: overflow encountered in exp\n",
      "  np.exp(prob, prob)\n",
      "/Users/wradford/repos/personal/alta17active/.venv/lib/python3.6/site-packages/sklearn/linear_model/base.py:347: RuntimeWarning: invalid value encountered in true_divide\n",
      "  prob /= prob.sum(axis=1).reshape((prob.shape[0], -1))\n"
     ]
    }
   ],
   "source": [
    "for text, preds in iter_active_sample(train, \n",
    "                                      accept=lambda preds: max(preds.values()) < 0.7,\n",
    "                                      limit=5,\n",
    "                                      cross_validate=True):\n",
    "    print('Labels\\t{}\\nText\\t{}\\n'.format(\n",
    "        list(sorted(preds.items(), key=lambda i: i[1], reverse=True))[:3],\n",
    "        repr(text)\n",
    "    ))"
   ]
  },
  {
   "cell_type": "code",
   "execution_count": 5,
   "metadata": {},
   "outputs": [
    {
     "name": "stdout",
     "output_type": "stream",
     "text": [
      "Label\tNone\n",
      "Text\t'From: ccdarg@dct.ac.uk (Alan Greig)\\nSubject: Re: ATF BURNS DIVIDIAN RANCH! NO SURVIVORS!!!\\nOrganization: Dundee Institute of Technology\\nLines: 22\\n\\nIn article <C5tEnu.112F@ns1.nodak.edu>, green@plains.NoDak.edu (Bill Green) writes:\\n\\n> And a few other questions.  Like I said, I believe the actions taken, in\\n> general, were proper.  But I still have some reservations.\\n\\nWe\\'ve heard a lot of talk about brainwashing in Waco but the brainwashing\\nof the general population never ceases to amaze me. Here is an\\nexample of action being taken which results in the worst possible\\noutcome and despite people\\'s deep intuition telling them something\\nis wrong the programming will still cut in and say that the\\nagents probably acted in good faith. NO THEY DIDN\\'T. They either did\\nnot have enough information to act in good faith or else they acted\\nknowing the risk. Sums up human stupidity all over and one of these\\ndays it will destroy the fucking planet: \"Oh sorry. Didn\\'t think they\\nwould respond by launching a strike. All our best calculations told\\nus they were bluffing.\"\\n\\n-- \\nAlan Greig                            Janet: A.Greig@uk.ac.dct\\nDundee Institute of Technology\\t   Internet: A.Greig@dct.ac.uk\\nTel: (0382) 308810                 (Int +44 382 308810)\\n         ** Never underestimate the power of human stupidity **\\n'\n",
      "\n",
      "Label\tNone\n",
      "Text\t\"From: kubovich@iastate.edu (Mark W Kubovich)\\nSubject: Common-mode noise and small signals\\nKeywords: noise common mode\\nOrganization: Iowa State University, Ames IA\\nLines: 20\\n\\nI have never worked with really small signals before and have a few \\nquestions about low level noise.  I have noticed that the waveform \\nsynthesizer that I am using (Analogic 2020) has some relatively large\\ncommon mode noise on it.  I am using this synthesizer to 'null' out another\\ntransient waveform and am amplifying the difference (~200uV) several hundred \\ntimes.  The 2020 has about 1-3 mVp-p of common mode noise and this tends to\\nmake my measurements hard to repeat.  (The noise is not quite in sync with \\nline frequency, and on a spectrum analyzer, the main component is about 64Hz).\\n\\nHow can I get rid of the noise?  When I look at the spectrum using an\\nHP 3582A (audio range analyzer), the noise goes away the minute I switch to \\n'isolation' on the input.  I am guessing the anlayzer has a diff amp on the \\ninput since it will read accurately down to DC.\\n\\nAlso, if I use a differential amplifier (IA) to solve the problem, \\nhow important is it to use one of these 'shield drivers' (an amp connected \\nto the shield in sort of a feedback loop to remove trouble caused \\nby different cable capacitances)?  If anyone can suggest a good IC IA for \\nuse with transient signals with content from 1KHz to about 300KHz, I would\\nappreciate it.  \\n\"\n",
      "\n",
      "Label\tNone\n",
      "Text\t\"From: stssdxb@st.unocal.com (Dorin Baru)\\nSubject: Re: ISLAM BORDERS vs Israeli borders\\nOrganization: Unocal Corporation\\nLines: 38\\n\\n\\nIlyess Bdira writes:\\n\\n\\n>>The Islamic world dreams of being the whole planet, but not by kicking\\n>the current inhabitant out, we rather deam of the day everybody converts.\\n>If Jews had the same dream, I would not feel threatened a bit.\\n\\n\\nSo I should be very comfortable that 500,000,000 people want to convert me to\\nIslam. Or, to convert me to ANYTHING. \\n\\nThere are many types of violence, physical murder is only one.\\n\\n'Trying' to convert is an insult. It's like trying to tell me that me and/or\\nmy God/my lack of God are just crap, that I need a new, 'converted' one.\\n\\nThis does not apply for muslims only, of course. Same for jews and for some\\nfriendly, nicely dressed neighbours who show on sunday with empty speaches\\nand cheap booklets about some church ....\\n\\nAnd when the objective is (I think, however that you are wrong) to convert \\neverybody, it's just a matter of time when violence will occur.\\n\\n\\nAren't we able to learn anything from thouthands of years of 'conversion related\\nviolence' ? \\n\\nWhy not let 'the other, more inferiour' people live as they wish and take care \\nyour business?. You do assume that they are inferiour (or their beliefs are)\\nas long as you want to change their thinking.\\n\\n\\n\\nDorin \\n\\n\\n\\n\"\n",
      "\n"
     ]
    }
   ],
   "source": [
    "for text, label in iter_random_unlabelled(train, limit=3):\n",
    "    print('Label\\t{}\\nText\\t{}\\n'.format(\n",
    "        label,\n",
    "        repr(text)\n",
    "    ))"
   ]
  },
  {
   "cell_type": "markdown",
   "metadata": {},
   "source": [
    "# Data programming\n",
    "\n",
    "We can weakly supervise using precise functions. Note that we have no fancy model above the labelling functions."
   ]
  },
  {
   "cell_type": "code",
   "execution_count": 6,
   "metadata": {},
   "outputs": [],
   "source": [
    "from collections import Counter\n",
    "\n",
    "\n",
    "def hockey_puck(text):\n",
    "    if 'puck' in text.lower():\n",
    "        return 'rec.sport.hockey'\n",
    "\n",
    "\n",
    "def baseball_home_run(text):\n",
    "    if 'home run' in text.lower():\n",
    "        return 'rec.sport.baseball'\n",
    "    \n",
    "\n",
    "def hockey_NHL(text):\n",
    "    if not 'nhl' in text.lower():\n",
    "        return '!rec.sport.hockey'\n",
    "\n",
    "\n",
    "def iter_apply_funcs(data, funcs):\n",
    "    for text, _ in data:\n",
    "        votes = Counter(func(text) for func in funcs).most_common(1)\n",
    "        if votes[0][0] is None:\n",
    "            continue\n",
    "        yield text, votes"
   ]
  },
  {
   "cell_type": "code",
   "execution_count": 7,
   "metadata": {
    "scrolled": false
   },
   "outputs": [
    {
     "name": "stdout",
     "output_type": "stream",
     "text": [
      "Label\t[('!rec.sport.hockey', 1)]\n",
      "Text\t\"From: etxonss@ufsa.ericsson.se (Staffan Axelsson)\\nSubject: WC 93: Results, April 20\\nOrganization: Ericsson Telecom, Stockholm, Sweden\\nLines: 162\\nNntp-Posting-Host: uipc104.ericsson.se\\n\\n\\n 1993 World Championships in Germany:\\n ====================================\\n\\n Group A results:\\n\\n SWEDEN - CANADA  1-4 (0-0,1-1,0-3)\\n\\n 1st:\\n 2nd: CAN 0-1 Geoff Sanderson      (Kevin Dineen)                  7:24\\n      SWE 1-1 Patrik Juhlin        (Jan Larsson)                  15:23 (pp)\\n 3rd: CAN 1-2 Geoff Sanderson                                      5:54 (ps)\\n      CAN 1-3 Mike Gartner         (Greg Johnson,Adam Graves)     10:44 \\n      CAN 1-4 Rod Brind'Amour      (Shayne Corson)                19:59\\n\\n            Shots on goal:    Penalties:    Attendance:     Referee:\\n Sweden     10 15 12 - 37     4*2min        6,500           Rob Hearn (USA)\\n Canada     10 13  6 - 29     6*2min\\n\\n Bill Ranford stopped 36 shots to lead Canada to a 4-1 victory in a very well\\n played game.\\n\\n The first period started with a give away from a Canadian defenseman and\\n Rundqvist came in alone on Ranford but couldn't put the puck over a sliding\\n Ranford. Later on, Kevin Dineen had a great opportunity but Soderstrom \\n played very well too. Stefan Nilsson had a couple of great dekes and set up\\n Jan Larsson but again Ranford came up big. Period ended scoreless but the edge\\n to Sweden in creating more opportunities.\\n Second period action saw Tommy Soderstrom making a GREAT save. Mark Recchi\\n made a backhanded cross ice pass to Lindros, Eric one timed the puck but\\n Soderstrom was there to make a glove hand save. At the 7-minute mark, Canada\\n started applying pressure on the Swedes. Sanderson-Dineen-Brind'Amour worked\\n hard and kept the puck in the Swedes' zone. Dineen gave the puck to Sanderson\\n who skated around a screened Swedish defenseman, came in on Soderstrom and\\n made a wrist shot that went it by Soderstrom's far post, 1-0 Canada.\\n The Swedes picked up their game after that, and Peter Forsberg had a shot\\n that hit Ranford's post (the inside), went parallel to the goal line and out.\\n Then Gartner got a penalty and the Swedes a power play. Jan Larsson took\\n a shot from the slot, Ranford gave a rebound to Larsson who saw Juhlin by\\n the far post, passed the puck and Ranford was beat, 1-1.\\n Third period started as the other periods, Swedes having most of the pressure\\n but the Canadians always dangerous once they were close to the Swede goal.\\n At 5:54, Canada created some great chances and Arto Blomsten was forced to\\n cover the puck in the Swede goal crease since Soderstrom lost sight of it.\\n That resulted in a penalty shot, since a defenseman can't cover the puck in \\n the goal crease. Geoff Sanderson took the penalty shot (his first ever, he\\n explained afterwards), and he put it low on Soderstrom's stick side, close\\n to the post. Excellent penalty shot to give Canada a go ahead goal.\\n Canada increased the lead on a very suspect offside, Gartner volleyed a\\n bouncing puck past Soderstrom to make it 3-1. The Swedes ran out of gas\\n then and couldn't produce as good scoring chances as they had for 2,5 periods.\\n The 4-1 goal came with only 1 second left, Rod Brind'Amour scoring on a\\n rebound from Soderstrom, where the Swedish defense already had their minds\\n in the dressing room.\\n\\n A very good game (the best in the WC so far?), with both goalies playing\\n great. Soderstrom best player in Sweden, but Ranford even played better\\n than Soderstrom, that tells you something about Ranford. Probably the best\\n goalie in the world, were some comments after the game.\\n Canada played a very disciplined defense, Ranford pointed out that it is\\n easy to play well with a good defense. Lindros played A LOT and played well,\\n Sanderson naturally game hero with two goals.\\n\\n The Forsberg-Naslund-Bergqvist line Sweden's best along with Larsson-Juhlin-\\n Nilsson. Swedish defense played well, 197 cm 104 kg Peter Popovic had the\\n task of neutralizing 192 cm 107 kg Eric Lindros, and managed this very well.\\n Ranger defenseman Peter Andersson finally got to go to the WC, and considering\\n that he landed in Germany just a few hours before the game, he played very\\n well. Swedish coach Curt Lundmark was irritated after the game, partly because\\n of the Swedes inability to score, and partly because of the linesman's mistake\\n on the 1-3 goal.\\n\\n Lines information follows further below.\\n- - - - - - - - - - - - - - - - - - - - - - - - - - - - - - - - - - - - - - - -\\n\\n ITALY - SWITZERLAND  1-0 (0-0,1-0,0-0)\\n\\n 1st:\\n 2nd: ITA 1-0 Orlando          15:47\\n 3rd:\\n\\n Penalties: ITA 10*2min, SWI 8*2min\\n Referee: Anton Danko, Slovakia\\n Attendance: 3,500\\n\\n-------------------------------------------------------------------------------\\n\\n Group B results:\\n\\n CZECH REPUBLIC - GERMANY  5-0 (0-0,3-0,2-0)\\n\\n 1st:\\n 2nd: CZE 1-0 Kamil Kastak        1:51\\n      CZE 2-0 Jiri Dolezal       12:26\\n      CZE 3-0 Petr Hrbek         19:10\\n 3rd: CZE 4-0 Radek Toupal        8:28\\n      CZE 5-0 Josef Beranek      17:07\\n\\n Penalties: CZE 7*2min, GER 6*2min 1*5min 1*10min game penalty\\n Referee: Darren Loraas, Canada\\n Attendance: 10,200\\n\\n The Czechs were clearly better than the Germans, and the German crowd\\n showed their discontent by throwing in stuff on the ice after a while.\\n\\n- - - - - - - - - - - - - - - - - - - - - - - - - - - - - - - - - - - - - - - -\\n\\n FINLAND - USA  1-1 (0-0,1-0,0-1)\\n\\n 1st:\\n 2nd: FIN 1-0 Jarkko Varvio      4:00\\n 3rd: USA 1-1 Ed Olczyk          4:26\\n\\n Penalties: FIN 7*2min, USA 6*2min\\n Referee: Valeri Bokarev, Russia\\n Attendance: 2,800\\n\\n I hope some Finns can provide information from this game (I didn't see the\\n whole game). The Finns took the lead on a Jarkko Varvio slap shot from the\\n blue line, and a soft goal for an unscreened Mike Richter.\\n As far as the play in the second period goes, the Finns seemed to have the\\n most control, so a 1-0 lead was warranted as I saw it.\\n\\n-------------------------------------------------------------------------------\\n\\n\\t\\t   SWEDEN\\t\\t\\t   CANADA\\n\\n Goaltender:\\t30 Tommy Soderstrom\\t\\t30 Bill Ranford\\n\\n Defense:\\t 8 Kenneth Kennholt\\t\\t 5 Norm Maciver\\n\\t\\t14 Fredrik Stillman\\t\\t24 Dave Manson\\n\\n\\t\\t 3 Peter Popovic\\t\\t25 Geoff Smith\\n\\t\\t55 Peter Andersson\\t\\t19 Brian Benning\\n\\n\\t\\t 7 Arto Blomsten\\t\\t 6 Terry Carkner\\n\\t\\t28 Roger Akerstrom\\t\\t 3 Garry Galley\\n\\n\\t\\t\\t\\t\\t\\t 4 Derek Mayer\\n\\n Forwards:\\t29 Mikael Renberg\\t\\t15 Dave Gagner\\n\\t\\t 9 Thomas Rundqvist\\t\\t27 Adam Graves\\n\\t\\t34 Mikael Andersson\\t\\t22 Mike Gartner\\n\\n\\t\\t19 Markus Naslund\\t\\t20 Paul Kariya\\n\\t\\t21 Peter Forsberg\\t\\t88 Eric Lindros\\n\\t\\t18 Jonas Bergqvist\\t\\t 8 Mark Recchi\\n\\n\\t\\t 5 Patrik Juhlin\\t\\t17 Rod Brind'Amour\\n\\t\\t20 Jan Larsson\\t\\t\\t 9 Shayne Corson\\n\\t\\t 4 Stefan Nilsson\\t\\t11 Kevin Dineen\\n\\n\\t\\t22 Charles Berglund\\t\\t10 Geoff Sanderson\\n\\t\\t26 Michael Nylander\\t\\t12 Greg Johnson\\n\\t\\t(34 Andersson/18 Bergqvist)\\t14 Brian Savage\\n\\n\\t\\t\\t\\t\\t\\t16 Kelly Buchberger\\n\\n--\\n ((\\\\\\\\  //| Staffan Axelsson            \\n  \\\\\\\\  //|| etxonss@ufsa.ericsson.se    \\n\\\\\\\\_))//-|| r.s.h. contact for Swedish hockey  \\n\"\n",
      "\n",
      "Label\t[('!rec.sport.hockey', 1)]\n",
      "Text\t\"From: rudy@netcom.com (Rudy Wade)\\nSubject: Re: YANKKES 1 GAME CLOSER\\nArticle-I.D.: netcom.rudyC52rBD.86w\\nOrganization: Home of the Brave\\nLines: 18\\n\\nMy god, hope we don't have to put up with this kind of junk all season!\\n\\nIn article <002251w.5.734117130@axe.acadiau.ca> 002251w@axe.acadiau.ca (JASON WALTER WORKS) writes:\\n>    The N.Y.Yankees, are now one game closer to the A.L.East pennant.  They \\n>clobbered Cleveland, 9-1, on a fine pitching performance by Key, and two \\n>homeruns by Tartabull(first M.L.baseball to go out this season), and a three \\n\\nHow many home runs by Tartabull?  Just 1, right, you must be thinking\\nof Dean Palmer or Juan Gonzalez (both of Texas) who each had 2 homers.\\n\\n>run homer by Nokes.  For all of you who didn't pick Boggs in your pools, \\n>tough break, he had a couple hits, and drove in a couple runs(with many more \\n\\nI don't know how many to follow, but he was 1 for 4.\\n\\n> GO YANKS., Mattingly for g.glove, and MVP, and Abbot for Cy Young.\\n\\nSpare us, please!\\n\"\n",
      "\n"
     ]
    }
   ],
   "source": [
    "for text, votes in iter_apply_funcs(iter_random_unlabelled(train, limit=250), \n",
    "                                    [hockey_NHL, hockey_puck, baseball_home_run]):\n",
    "    print('Label\\t{}\\nText\\t{}\\n'.format(votes, repr(text)))"
   ]
  },
  {
   "cell_type": "markdown",
   "metadata": {
    "collapsed": true
   },
   "source": [
    "# Annotation tool\n"
   ]
  },
  {
   "cell_type": "code",
   "execution_count": 8,
   "metadata": {},
   "outputs": [],
   "source": [
    "from IPython.display import clear_output, display\n",
    "import ipywidgets as widgets\n",
    "import functools"
   ]
  },
  {
   "cell_type": "code",
   "execution_count": 9,
   "metadata": {},
   "outputs": [],
   "source": [
    "class AnnotationPane(object):\n",
    "    def __init__(self, queue, label_scheme):\n",
    "        self.text_pane = widgets.HTML()\n",
    "        self.buttons = []\n",
    "        for desc, label in label_scheme:\n",
    "            button = widgets.Button(\n",
    "                description=desc\n",
    "            )\n",
    "            button.on_click(functools.partial(self.on_click, label))\n",
    "            self.buttons.append(button)\n",
    "        \n",
    "        self.view = widgets.VBox([\n",
    "            widgets.HBox(self.buttons),\n",
    "            self.text_pane,  \n",
    "        ])\n",
    "        self.queue = list(queue)\n",
    "        self.draw()\n",
    "        display(self.view)\n",
    "        self.responses = []\n",
    "\n",
    "    def on_click(self, label, button):\n",
    "        self.responses.append((text, label))\n",
    "        self.draw()\n",
    "        \n",
    "    def draw(self):\n",
    "        if not self.queue:\n",
    "            for button in self.buttons:\n",
    "                button.disabled = True\n",
    "            self.text_pane.value = '<p>Finished</p>'\n",
    "        else:\n",
    "            self.text = self.queue.pop(0)\n",
    "            self.text_pane.value = '<p>{}</p>'.format(self.text)"
   ]
  },
  {
   "cell_type": "code",
   "execution_count": 10,
   "metadata": {},
   "outputs": [
    {
     "data": {
      "application/vnd.jupyter.widget-view+json": {
       "model_id": "be85e827b9704e7f95188ae822defd86",
       "version_major": 2,
       "version_minor": 0
      },
      "text/html": [
       "<p>Failed to display Jupyter Widget of type <code>VBox</code>.</p>\n",
       "<p>\n",
       "  If you're reading this message in the Jupyter Notebook or JupyterLab Notebook, it may mean\n",
       "  that the widgets JavaScript is still loading. If this message persists, it\n",
       "  likely means that the widgets JavaScript library is either not installed or\n",
       "  not enabled. See the <a href=\"https://ipywidgets.readthedocs.io/en/stable/user_install.html\">Jupyter\n",
       "  Widgets Documentation</a> for setup instructions.\n",
       "</p>\n",
       "<p>\n",
       "  If you're reading this message in another frontend (for example, a static\n",
       "  rendering on GitHub or <a href=\"https://nbviewer.jupyter.org/\">NBViewer</a>),\n",
       "  it may mean that your frontend doesn't currently support widgets.\n",
       "</p>\n"
      ],
      "text/plain": [
       "VBox(children=(HBox(children=(Button(description='Yes', style=ButtonStyle()), Button(description='No', style=ButtonStyle()))), HTML(value='<p>(\"From: bcwhite@sunee.uwaterloo.ca (Brian C. White)\\\\nSubject: Re: SCSI on dos\\\\nKeywords: SCSI, DOS, streamer\\\\nOrganization: University of Waterloo\\\\nLines: 15\\\\n\\\\nIn article <1993Apr19.132748.18044@julian.uwo.ca> wlsmith@valve.heart.rri.uwo.ca (Wayne Smith) writes:\\\\n>It was the Seagate 296N and the ST-02 controller.  I found that the\\\\n>controller couldn\\'t keep up with a 1:1 interleave, so the best I could do\\\\n>with the drive was a 2:1 interleave and a data transfer of about 450 k/sec.\\\\n\\\\nAccording to what others have told me, the ST-296N is difficult to run at\\\\nthe 1:1 interleave even though Seagate claims it.  I have a non-pc system\\\\n(don\\'t ask what it is, you probably haven\\'t heard of it) that is built\\\\naround SCSI and it can\\'t do 1:1, either.\\\\n\\\\n                                        Brian\\\\n                           ( bcwhite@sunee.uwaterloo.ca )\\\\n\\\\n-------------------------------------------------------------------------------\\\\n    In theory, theory and practice are the same.  In practice, they\\'re not.\\\\n\", None)</p>')))"
      ]
     },
     "metadata": {},
     "output_type": "display_data"
    }
   ],
   "source": [
    "pane = AnnotationPane(list(iter_random_unlabelled(train, limit=10)),\n",
    "                      [('Yes', True),\n",
    "                       ('No', False)])"
   ]
  },
  {
   "cell_type": "code",
   "execution_count": null,
   "metadata": {},
   "outputs": [],
   "source": []
  }
 ],
 "metadata": {
  "kernelspec": {
   "display_name": "Python 3",
   "language": "python",
   "name": "python3"
  },
  "language_info": {
   "codemirror_mode": {
    "name": "ipython",
    "version": 3
   },
   "file_extension": ".py",
   "mimetype": "text/x-python",
   "name": "python",
   "nbconvert_exporter": "python",
   "pygments_lexer": "ipython3",
   "version": "3.6.3"
  }
 },
 "nbformat": 4,
 "nbformat_minor": 2
}
