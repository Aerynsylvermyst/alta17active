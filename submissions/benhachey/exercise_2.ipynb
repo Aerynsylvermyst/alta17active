{
 "cells": [
  {
   "cell_type": "markdown",
   "metadata": {},
   "source": [
    "# Exercise 2: Live shared task\n",
    "\n",
    "The challenge is to build a sentence-level classifier for identyfing [adverse drug events](https://en.wikipedia.org/wiki/Adverse_event) in 60 minutes. You are free to use any data and annotation strategy you think best trades off hacking and labelling. Just please don't look at the test data.\n",
    "\n",
    "Some strategies to consider:\n",
    "* Get started with random or query-driven sampling.\n",
    "* Use the dev data for seeding learning instead of generalisation testing and analysis.\n",
    "* Tune classifier choice, hyperparameters or feature extraction.\n",
    "* Use error analysis over the dev data to refine your strategy.\n",
    "* Active learning by uncertainty or ensembles.\n",
    "* Collect 10 or more query functions and use as snorkel labelling functions.\n",
    "* Find additional data, e.g., [Twitter](https://archive.org/details/twitterstream).\n",
    "* Interactive web search or [Reddit queries](http://minimaxir.com/2015/10/reddit-bigquery/).\n",
    "* Use external data (e.g., [MAUDE](https://www.fda.gov/MedicalDevices/DeviceRegulationandGuidance/PostmarketRequirements/ReportingAdverseEvents/ucm127891.htm)) for querying or labelling functions.\n",
    "\n",
    "Please don't use data from the following as they are sources of our held-out data:\n",
    "* CSIRO CADEC data set\n",
    "* AskaPatient\n",
    "* DIEGO Lab Twitter data sets"
   ]
  },
  {
   "cell_type": "markdown",
   "metadata": {},
   "source": [
    "## Preliminaries\n",
    "\n",
    "Labels are saved on the following objects. Only run this once, unless you want delete your annotations and start over."
   ]
  },
  {
   "cell_type": "code",
   "execution_count": 15,
   "metadata": {},
   "outputs": [
    {
     "name": "stdout",
     "output_type": "stream",
     "text": [
      "The autoreload extension is already loaded. To reload it, use:\n",
      "  %reload_ext autoreload\n"
     ]
    }
   ],
   "source": [
    "%load_ext autoreload\n",
    "%autoreload 2"
   ]
  },
  {
   "cell_type": "code",
   "execution_count": 27,
   "metadata": {},
   "outputs": [],
   "source": [
    "# for tracking performance\n",
    "batches = []"
   ]
  },
  {
   "cell_type": "code",
   "execution_count": 3,
   "metadata": {},
   "outputs": [
    {
     "name": "stdout",
     "output_type": "stream",
     "text": [
      "Loaded 3761 items to dev dataset\n"
     ]
    }
   ],
   "source": [
    "from dataset import Dataset\n",
    "\n",
    "# load dev data\n",
    "dev = Dataset.from_csv('../shared-task/dev.csv')\n",
    "print('Loaded {} items to dev dataset'.format(len(dev)))\n",
    "\n",
    "# get text and label vectors for scikit-learn\n",
    "X_dev, y_dev = zip(*dev.oracle_items)"
   ]
  },
  {
   "cell_type": "code",
   "execution_count": 11,
   "metadata": {},
   "outputs": [],
   "source": [
    "# load unlabelled data pools\n",
    "aska = Dataset.from_csv('../shared-task/aska.csv')\n",
    "print('Loaded {} items to aska dataset'.format(len(aska)))\n",
    "\n",
    "#ader = Dataset.from_csv('../shared-task/ader.csv')\n",
    "#print('Loaded {} items to ader dataset'.format(len(ader)))\n",
    "\n",
    "#adeb = Dataset.from_csv('../shared-task/adeb.csv')\n",
    "#print('Loaded {} items to adeb dataset'.format(len(adeb)))\n",
    "\n",
    "adrc = Dataset.from_csv('../shared-task/adrc.csv')\n",
    "print('Loaded {} items to adrc dataset'.format(len(adrc)))\n",
    "\n",
    "DATASETS = [aska, adrc]"
   ]
  },
  {
   "cell_type": "markdown",
   "metadata": {},
   "source": [
    "## Look at some dev data"
   ]
  },
  {
   "cell_type": "code",
   "execution_count": 24,
   "metadata": {},
   "outputs": [
    {
     "name": "stdout",
     "output_type": "stream",
     "text": [
      "0 False 'I even questioned her about the liver damage it can cause but she said it hardly ever happens.'\n",
      "1 True 'After I stopped taking Lipitor, the pain gradually subsided over a 9 month period.'\n",
      "2 False 'Oh yeah, Hyprochondria!'\n",
      "3 True 'pain in my left leg and most of my joints.'\n",
      "4 False 'not worth the risks of taking the drug.'\n",
      "5 False 'Thought I would take lipitor just to be safe.'\n",
      "6 False 'It worked very well the first time it was prescribed and I lost 20 pounds using it with exercise and diet.'\n",
      "7 True 'When the weather is hot we both get extreme headaches.'\n",
      "8 False 'I stop treatment and went to an over-the-counter med.'\n",
      "9 False 'i feel its ok.'\n"
     ]
    }
   ],
   "source": [
    "for i, (text, label) in enumerate(dev.oracle_items):\n",
    "    if i > 9:\n",
    "        break\n",
    "    print(i, label, repr(text))"
   ]
  },
  {
   "cell_type": "markdown",
   "metadata": {},
   "source": [
    "## Look at some unlabelled pool data"
   ]
  },
  {
   "cell_type": "code",
   "execution_count": 25,
   "metadata": {},
   "outputs": [
    {
     "name": "stdout",
     "output_type": "stream",
     "text": [
      "0 None 'Have not had need to take xanax since starting'\n",
      "1 None 'What a nightmare drug for me!'\n",
      "2 None 'I was on it for 3 1/2 yrs.'\n",
      "3 None \"Explained to the doctor it wasn't helping to begin with 1 month after taking it so upped the dose on me and its done nothing to really help pick me up at all.\"\n",
      "4 None 'DOCTORS SAY THERE ARE NO SIDE EFFECTS,BUT THAT DOESNT SEEM TO BE THE CASE.'\n",
      "5 None 'in my third week now, the headaches are gone or at least more manageable when i have them, my teeth grinding/jaw clenching is getting better, i actually HAVE energy to do things again (!!'\n",
      "6 None 'Cymbalta makes me feel good.'\n",
      "7 None 'I only took this for 2 weeks after years of taking aciphex with no ill effetcs(I had to start Nexium because I am active duty military and they switched from aciphex to nexium)my side effects have actually gotten worse in some cases.'\n",
      "8 None \"I can't believe they are putting people on this after a surgery...mastectomy...!!!\"\n",
      "9 None \"I was super dizzy for weeks, didn't feel right, always felt like I was going to pass out, fuzzy headed, I didn't feel right for a long time.\"\n"
     ]
    }
   ],
   "source": [
    "for i, (text, label) in enumerate(aska.oracle_items):\n",
    "    if i > 9:\n",
    "        break\n",
    "    print(i, label, repr(text))"
   ]
  },
  {
   "cell_type": "markdown",
   "metadata": {},
   "source": [
    "## Load pool data\n",
    "\n",
    "Now let's load the unlabelled pool data. We have data from several sources:\n",
    "* `aska` - Posts for additional drugs from AskaPatient\n",
    "* `ader` - Comments mentioning the same drugs from Reddit\n",
    "* `adeb` - Tweets mentioning the same set of drugs\n",
    "* `adrc` - Tweets mentioning an overlapping set of drugs"
   ]
  },
  {
   "cell_type": "markdown",
   "metadata": {},
   "source": [
    "## Annotate"
   ]
  },
  {
   "cell_type": "code",
   "execution_count": 17,
   "metadata": {},
   "outputs": [
    {
     "name": "stdout",
     "output_type": "stream",
     "text": [
      "0 None 'EYE pain, to where I had to wear sunglasses in the house, dim lights, close blin'\n",
      "1 None 'It helped me to feel better andhelped my pain a lot'\n",
      "2 None 'Im having terrible pain and facing expensive cost to have them repaired or repla'\n",
      "3 None 'My joint, muscle pain is so severe I have to actually crawl up my steps to my ho'\n",
      "4 None 'it helps but still have stomach acid and pain'\n",
      "5 None 'Also gastritis pain went away.'\n",
      "6 None 'This med is the only med that relieves the pain & numbness of neuropathy for me.'\n",
      "7 None 'Never noticed any reduction in my pain level.'\n",
      "8 None 'Never had a problem and never had a pain once I stopped taking it.'\n",
      "9 None 'While there has been some pain relief the side effects are more than I care to d'\n"
     ]
    }
   ],
   "source": [
    "from samplers import Random\n",
    "import re\n",
    "\n",
    "# set up a random sampler with a query filter that mathces examples containing the word pain\n",
    "def mentions_pain(item):\n",
    "    return bool(re.search(r'\\bpain\\b', item[0], flags=re.IGNORECASE))\n",
    "query_sampler = Random(None, batch_size=10, query=mentions_pain)\n",
    "\n",
    "# sample \n",
    "for i, (text, label) in enumerate(query_sampler(aska)):\n",
    "    print(i, label, repr(text[:80]))"
   ]
  },
  {
   "cell_type": "code",
   "execution_count": 41,
   "metadata": {},
   "outputs": [
    {
     "data": {
      "application/vnd.jupyter.widget-view+json": {
       "model_id": "5ca45a8973964ff2b752f82686db377d",
       "version_major": 2,
       "version_minor": 0
      },
      "text/html": [
       "<p>Failed to display Jupyter Widget of type <code>VBox</code>.</p>\n",
       "<p>\n",
       "  If you're reading this message in the Jupyter Notebook or JupyterLab Notebook, it may mean\n",
       "  that the widgets JavaScript is still loading. If this message persists, it\n",
       "  likely means that the widgets JavaScript library is either not installed or\n",
       "  not enabled. See the <a href=\"https://ipywidgets.readthedocs.io/en/stable/user_install.html\">Jupyter\n",
       "  Widgets Documentation</a> for setup instructions.\n",
       "</p>\n",
       "<p>\n",
       "  If you're reading this message in another frontend (for example, a static\n",
       "  rendering on GitHub or <a href=\"https://nbviewer.jupyter.org/\">NBViewer</a>),\n",
       "  it may mean that your frontend doesn't currently support widgets.\n",
       "</p>\n"
      ],
      "text/plain": [
       "VBox(children=(HBox(children=(Button(description='Yes', style=ButtonStyle()), Button(description='No', style=ButtonStyle()), Button(description='Skip', style=ButtonStyle()))), HTML(value='<p>I just started taking this drug a few weeks ago, so it might begin to affect my flare-ups, but for now I still feel the flareup pain.</p>')))"
      ]
     },
     "metadata": {},
     "output_type": "display_data"
    }
   ],
   "source": [
    "from annotator import AnnotationPane\n",
    "\n",
    "# annotate\n",
    "pane = AnnotationPane(aska, query_sampler)"
   ]
  },
  {
   "cell_type": "code",
   "execution_count": 42,
   "metadata": {},
   "outputs": [
    {
     "data": {
      "text/plain": [
       "{False: 27, None: 14668, True: 17}"
      ]
     },
     "execution_count": 42,
     "metadata": {},
     "output_type": "execute_result"
    }
   ],
   "source": [
    "aska.label_distribution"
   ]
  },
  {
   "cell_type": "markdown",
   "metadata": {},
   "source": [
    "## Train on annotated data, evaluate on dev data"
   ]
  },
  {
   "cell_type": "code",
   "execution_count": null,
   "metadata": {},
   "outputs": [],
   "source": [
    "# TODO update train (copy from submissions/wradford)"
   ]
  },
  {
   "cell_type": "code",
   "execution_count": 43,
   "metadata": {},
   "outputs": [
    {
     "name": "stdout",
     "output_type": "stream",
     "text": [
      "..fitting to 44 labelled examples..\n",
      "..fitting to 44 labelled examples..\n",
      "..fitting to 44 labelled examples..\n",
      "..fitting to 44 labelled examples..\n",
      "..fitting to 44 labelled examples..\n"
     ]
    }
   ],
   "source": [
    "from evaluation import fit_and_score\n",
    "\n",
    "batches.append(list(fit_and_score(pipeline, aska, X_test, y_test, n=5)))"
   ]
  },
  {
   "cell_type": "code",
   "execution_count": 49,
   "metadata": {},
   "outputs": [
    {
     "name": "stdout",
     "output_type": "stream",
     "text": [
      "Batches:\n",
      "\n",
      "..batch 0\n",
      "..train_sizes: (30, 30, 30, 30, 30)\n",
      "..train_scores: ['1.00', '1.00', '1.00', '1.00', '1.00']\n",
      "..test_scores: ['0.45', '0.49', '0.52', '0.49', '0.52']\n",
      "\n",
      "..batch 1\n",
      "..train_sizes: (44, 44, 44, 44, 44)\n",
      "..train_scores: ['1.00', '1.00', '1.00', '1.00', '1.00']\n",
      "..test_scores: ['0.43', '0.47', '0.47', '0.47', '0.49']\n"
     ]
    }
   ],
   "source": [
    "# inspect batches\n",
    "print('Batches:')\n",
    "for i, batch in enumerate(batches):\n",
    "    train_sizes, train_scores, test_scores = zip(*batch)\n",
    "    print('\\n..batch', i)\n",
    "    print('..train_sizes:', train_sizes)\n",
    "    print('..train_scores:', ['{:.2f}'.format(s) for s in train_scores])\n",
    "    print('..test_scores:', ['{:.2f}'.format(s) for s in test_scores])"
   ]
  },
  {
   "cell_type": "code",
   "execution_count": 46,
   "metadata": {},
   "outputs": [
    {
     "data": {
      "text/plain": [
       "<matplotlib.figure.Figure at 0x1086a5c50>"
      ]
     },
     "metadata": {},
     "output_type": "display_data"
    },
    {
     "data": {
      "image/png": "[encoded data removed]",
      "text/plain": [
       "<matplotlib.figure.Figure at 0x1086a5e80>"
      ]
     },
     "metadata": {},
     "output_type": "display_data"
    }
   ],
   "source": [
    "from evaluation import plot_learning_curve\n",
    "\n",
    "train_sizes, train_scores, test_scores = zip(*[zip(*i) for i in batches])\n",
    "plt = plot_learning_curve(train_sizes, train_scores, test_scores)\n",
    "plt.show()"
   ]
  },
  {
   "cell_type": "markdown",
   "metadata": {},
   "source": [
    "## Train and evaluate on dev"
   ]
  },
  {
   "cell_type": "code",
   "execution_count": null,
   "metadata": {},
   "outputs": [],
   "source": [
    "from samplers import Random\n",
    "from sklearn.feature_extraction.text import TfidfVectorizer\n",
    "from sklearn.naive_bayes import MultinomialNB\n",
    "from sklearn.pipeline import Pipeline\n",
    "import re\n",
    "\n",
    "# use multinomial NB again\n",
    "pipeline = Pipeline([\n",
    "        ('vectorizer', TfidfVectorizer(sublinear_tf=True, max_df=0.5, stop_words='english')),\n",
    "        ('clf', MultinomialNB(alpha=.01)),\n",
    "    ])"
   ]
  },
  {
   "cell_type": "code",
   "execution_count": null,
   "metadata": {},
   "outputs": [],
   "source": []
  },
  {
   "cell_type": "markdown",
   "metadata": {},
   "source": [
    "## Data programming \n",
    "\n",
    "One view of data programming is that it takes the query functions we used in the previous exercise and uses them for weak supervision. It does this by pooling labelling function output using weighted voting.\n",
    "\n",
    "A simple implementation could use the inter-annotator agreement scripts from exercise 1.1 to weight each labelling function by its average agreement score.\n",
    "\n",
    "In the setting here, where we have dev data, we could also weight each labelling function by its perforamance on the labelled dev data. Of course, this wouldn't work in an annotation setting where we were starting without labelled data.\n",
    "\n",
    "A key difference with `snorkel` is that this approach in the annotation framework does not go on to train the classifier on a continuous voting confidence value.\n",
    "\n",
    "Feel free to experiment with voting, or use `snorkel` directly. If you do plan to use `snorkel`, note that it takes a while to [install](https://github.com/HazyResearch/snorkel#installation). It would be a good idea to run the installation in the background while you start annotating and/or writing labelling functions.\n",
    "\n",
    "Once `snorkel` is installed, the tutorials should help get things up and running. These are in the repo and can also be viewed [on github](https://github.com/HazyResearch/snorkel/tree/master/tutorials/intro)."
   ]
  },
  {
   "cell_type": "markdown",
   "metadata": {},
   "source": [
    "# Wrapping up.."
   ]
  },
  {
   "cell_type": "markdown",
   "metadata": {},
   "source": [
    "## Short strategy description\n",
    "\n",
    "Before submitting, please summarise:\n",
    "* The hacking/labelling strategy you followed\n",
    "* How do you rate this strategy? Why?\n",
    "\n",
    "__TODO Add your summary right here.__\n",
    "\n",
    "__TODO If you have a list sampling strategies, please include it here.__"
   ]
  },
  {
   "cell_type": "markdown",
   "metadata": {},
   "source": [
    "## Submission\n",
    "\n",
    "Submit your annotation and system output for scoring.\n",
    "* Union of annotations across all sets (except dev).\n",
    "* Predict dev\n",
    "* Predict test\n",
    "\n",
    "\n",
    "### Step 1: Set up\n",
    "\n",
    "First, we'll set up a pipeline. Feel free to use a different classifier here if you like.\n",
    "\n",
    "__FIXME fix to_csv!__"
   ]
  },
  {
   "cell_type": "code",
   "execution_count": 50,
   "metadata": {},
   "outputs": [],
   "source": [
    "from sklearn.feature_extraction.text import TfidfVectorizer\n",
    "from sklearn.naive_bayes import MultinomialNB\n",
    "from sklearn.pipeline import Pipeline\n",
    "\n",
    "# use multinomial NB again\n",
    "pipeline = Pipeline([\n",
    "        ('vectorizer', TfidfVectorizer(sublinear_tf=True, max_df=0.5, stop_words='english')),\n",
    "        ('clf', MultinomialNB(alpha=.01)),\n",
    "    ])"
   ]
  },
  {
   "cell_type": "markdown",
   "metadata": {},
   "source": [
    "Submissions will be written to a USERNAME directory. This will take USER from your environment by default, but feel free to choose another name."
   ]
  },
  {
   "cell_type": "code",
   "execution_count": 51,
   "metadata": {},
   "outputs": [],
   "source": [
    "import os\n",
    "\n",
    "USERNAME = os.environ.get('USER', 'username')"
   ]
  },
  {
   "cell_type": "code",
   "execution_count": 53,
   "metadata": {},
   "outputs": [],
   "source": [
    "! mkdir -p ../submissions/$USER"
   ]
  },
  {
   "cell_type": "markdown",
   "metadata": {},
   "source": [
    "### Step 2: Train and predict\n",
    "\n",
    "Now lets collate all annotated data into a `train` dataset; use this to train the classifier; and save predictions for dev and test.\n",
    "\n",
    "__FIXME move this into a function for learning curve use as well!__"
   ]
  },
  {
   "cell_type": "code",
   "execution_count": 54,
   "metadata": {},
   "outputs": [
    {
     "name": "stdout",
     "output_type": "stream",
     "text": [
      "{None: 14668, False: 27, True: 17}\n"
     ]
    },
    {
     "data": {
      "text/plain": [
       "Pipeline(memory=None,\n",
       "     steps=[('vectorizer', TfidfVectorizer(analyzer='word', binary=False, decode_error='strict',\n",
       "        dtype=<class 'numpy.int64'>, encoding='utf-8', input='content',\n",
       "        lowercase=True, max_df=0.5, max_features=None, min_df=1,\n",
       "        ngram_range=(1, 1), norm='l2', preprocessor=None, smooth_idf=Tr...ue,\n",
       "        vocabulary=None)), ('clf', MultinomialNB(alpha=0.01, class_prior=None, fit_prior=True))])"
      ]
     },
     "execution_count": 54,
     "metadata": {},
     "output_type": "execute_result"
    }
   ],
   "source": [
    "# Collate all labels.\n",
    "train = Dataset()\n",
    "# FIXME Add all the datasets.\n",
    "for d in DATASETS:\n",
    "    train.update(d)\n",
    "print(train.label_distribution)"
   ]
  },
  {
   "cell_type": "code",
   "execution_count": null,
   "metadata": {},
   "outputs": [],
   "source": [
    "# save annotations to csv\n",
    "for d in DATASETS:\n",
    "    d.to_csv('../submissions/YOUR_USERNAME_HERE/pool.csv')\n",
    "train.to_csv('../submissions/{}/train.csv'.format(USERNAME))"
   ]
  },
  {
   "cell_type": "code",
   "execution_count": null,
   "metadata": {},
   "outputs": [],
   "source": [
    "# train the classifier\n",
    "X_train, y_train = zip(*train.labelled_items)\n",
    "pipeline.fit(X_train, y_train)"
   ]
  },
  {
   "cell_type": "code",
   "execution_count": 57,
   "metadata": {},
   "outputs": [
    {
     "name": "stdout",
     "output_type": "stream",
     "text": [
      "Written submission to ../submissions/benhachey/dev.csv\n",
      "Written submission to ../submissions/benhachey/test.csv\n"
     ]
    }
   ],
   "source": [
    "from evaluation import label_for_submission\n",
    "\n",
    "# prepare system output for dev data\n",
    "label_for_submission(dev, pipeline, 'dev', USERNAME)\n",
    "\n",
    "# prepare system output for test data\n",
    "test = Dataset.from_csv('../shared-task/test.csv')\n",
    "label_for_submission(test, pipeline, 'test', USERNAME)"
   ]
  },
  {
   "cell_type": "markdown",
   "metadata": {},
   "source": [
    "### Step 3: Copy notebook and submit"
   ]
  },
  {
   "cell_type": "code",
   "execution_count": null,
   "metadata": {},
   "outputs": [],
   "source": [
    "# copy your notebook to your submission directory\n",
    "! cp exercise_2.ipynb ../submissions/YOUR_USERNAME_HERE/"
   ]
  },
  {
   "cell_type": "code",
   "execution_count": null,
   "metadata": {},
   "outputs": [],
   "source": [
    "# push your submission back to the repo\n",
    "! git add ../submissions/YOUR_USERNAME_HERE\n",
    "! git commit -m 'Checkpoint YOUR_USERNAME_HERE' ../submissions/YOUR_USERNAME_HERE/\n",
    "! git push"
   ]
  }
 ],
 "metadata": {
  "kernelspec": {
   "display_name": "Python 3",
   "language": "python",
   "name": "python3"
  },
  "language_info": {
   "codemirror_mode": {
    "name": "ipython",
    "version": 3
   },
   "file_extension": ".py",
   "mimetype": "text/x-python",
   "name": "python",
   "nbconvert_exporter": "python",
   "pygments_lexer": "ipython3",
   "version": "3.6.1"
  }
 },
 "nbformat": 4,
 "nbformat_minor": 2
}
